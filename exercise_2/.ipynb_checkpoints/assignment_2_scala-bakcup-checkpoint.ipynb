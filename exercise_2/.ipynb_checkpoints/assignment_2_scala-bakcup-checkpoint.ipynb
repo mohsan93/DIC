{
 "cells": [
  {
   "cell_type": "code",
   "execution_count": 108,
   "metadata": {},
   "outputs": [
    {
     "data": {
      "text/plain": [
       "import org.json4s._\r\n",
       "import org.json4s.jackson.JsonMethods._\r\n",
       "import scala.runtime.ScalaRunTime._\n"
      ]
     },
     "execution_count": 108,
     "metadata": {},
     "output_type": "execute_result"
    }
   ],
   "source": [
    "import org.json4s._\n",
    "import org.json4s.jackson.JsonMethods._\n",
    "import scala.runtime.ScalaRunTime._"
   ]
  },
  {
   "cell_type": "code",
   "execution_count": 2,
   "metadata": {},
   "outputs": [
    {
     "data": {
      "text/plain": [
       "file_path: String = D:\\TU WIEN\\DIC SS20\\Assignment_2\\reviews_devset.json\n"
      ]
     },
     "execution_count": 2,
     "metadata": {},
     "output_type": "execute_result"
    }
   ],
   "source": [
    "val file_path = \"D:\\\\TU WIEN\\\\DIC SS20\\\\Assignment_2\\\\reviews_devset.json\"\n",
    "//val peopleDF = spark.read.json(path)\n",
    "//peopleDF.printSchema()"
   ]
  },
  {
   "cell_type": "markdown",
   "metadata": {},
   "source": [
    "# Names of the columns:\n",
    "\n",
    "root <br>\n",
    " |-- asin: string (nullable = true) <br>\n",
    " |-- category: string (nullable = true) <br>\n",
    " |-- helpful: array (nullable = true) <br>\n",
    " |    |-- element: long (containsNull = true) <br>\n",
    " |-- overall: double (nullable = true) <br>\n",
    " |-- reviewText: string (nullable = true) <br>\n",
    " |-- reviewTime: string (nullable = true) <br>\n",
    " |-- reviewerID: string (nullable = true) <br>\n",
    " |-- reviewerName: string (nullable = true) <br>\n",
    " |-- summary: string (nullable = true) <br>\n",
    " |-- unixReviewTime: long (nullable = true) <br>"
   ]
  },
  {
   "cell_type": "code",
   "execution_count": 3,
   "metadata": {},
   "outputs": [
    {
     "data": {
      "text/plain": [
       "rdd: org.apache.spark.rdd.RDD[String] = D:\\TU WIEN\\DIC SS20\\Assignment_2\\reviews_devset.json MapPartitionsRDD[1] at textFile at <console>:33\n"
      ]
     },
     "execution_count": 3,
     "metadata": {},
     "output_type": "execute_result"
    }
   ],
   "source": [
    "val rdd = sc.textFile(file_path)\n",
    "\n",
    "/* Works:\n",
    "rdd.map{ row =>\n",
    "  val json_row = parse(row)\n",
    "\n",
    "  (compact(json_row \\ \"asin\") + \"test\", compact(json_row \\ \"reviewText\"))\n",
    "}.collect().foreach{println _}\n",
    "*/"
   ]
  },
  {
   "cell_type": "code",
   "execution_count": 175,
   "metadata": {
    "scrolled": true
   },
   "outputs": [
    {
     "name": "stdout",
     "output_type": "stream",
     "text": [
      "\"This was a gift for my other husband.  He's making us things from it all the time and we love the food.  Directions are simple, easy to read and interpret, and fun to make.  We all love different kinds of cuisine and Raichlen provides recipes from everywhere along the barbecue trail as he calls it. Get it and just open a page.  Have at it.  You'll love the food and it has provided us with an insight into the culture that produced it. It's all about broadening horizons.  Yum!!\"\n",
      "\"This is a very nice spreader.  It feels very solid and the pneumatic tires give it great maneuverability and handling over bumps.  The control arm is solid metal, not a cable, which gives you precise control and will last a long time.  The settings take some experimentation with your various products to get it right, but that is true of any spreader.  It has good distribution... probably flings material a little farther on the right side than the left, but it is far more even than my crappy Edgeguard ever was.\"\n",
      "\"The metal base with the hose attachments is very poorly designed and made. As the previous reviewer pointed out, it leaks badly and just pops off. There is no way to fix or tighten this junction and when the plastic wears a bit the hose just falls off and sprinkler is useless.AVOID ANY GILMOUR Sprinklers with this spike base. The sprinkler heads themselves work fairly well.\"\n",
      "\"For the most part this works pretty good. I bought the John Deere and this one, they both work the same. This is the first time I am waterin my lawn, so to me it seems like they use a lot of water, especially in narrow areas. They are better made for large areas, for narrow corridors, use some other system.\"\n",
      "\"This hose is supposed to be flexible.  Its hard, heavy and unwieldy.  I don't know if it kinks or not, because I could tell, as soon as I removed it from the box, that I would have to return it.  If you want a lightweight, soft hose (and I know they exist because I have one), do not buy this thing.\"\n",
      "\"This tool works very well for cutting brush and woody stemmed weeds up to about 2&#34;. It will work for larger brush and small trees with multiple swings but I find it easier to use a bow saw for the occasional larger plants I encounter. Note that if you need to cut a lot of larger brush a brush hook would be better than this ditch bank blade as the brush hook blade is thicker and heavier.The tool needs to be sharpened right out of the package to perform best. This removes the paint and any nicks and burrs from the factory grinding as well shipping and handling nicks. I resharpen the blades and spray them with WD-40 after each use so it remains rust free and is ready to go for the next session of cutting brush. Also, I suggest installing either lock washers or nyloc nuts on the bolts to keep them tight in use. Even with that, check them after each use to make sure they are tight--it seems that initially the ash handle compresses a bit and the metal side plates need time to seat fully into the ash.This tool has been a huge improvement over my large lopping shears and machette for clearing brush on a new rail trail.Great tool if used appropriately. Per the package it can also be used to ward off zombies and the undead but I've not had that need to date.\"\n",
      "\"This product is a typical, yet usable, B&D design. The handle-mounted power cord lock is somewhat difficult to use, but works fairly well after the cord is \\\"locked\\\" into a type of holder that could be improved. The product does what it is intended to do, no more, no less.  It is a powerful vacuum and works very well with high amounts of dry leaf material.  The attached bagger is somewhat cumbersome to use and empty, produces copious amounts of leaf-dust, but overall, this product works quite well in vacuuming lots of leaf and yard material.\"\n",
      "\"I was excited to ditch my $1.99, two-prong corn holders for this corkscrew design but regret it. The corkscrew design twists into the end of the corn. I thought this was a genius idea but the problem is that the prong continues to twist when in the corn. Since it doesn't have a second prong to prevent the pivoting, the corn will flip and slip all around the prong, which is super annoying when trying to butter and eat. The storage case and grips are nice but I think the design itself is problematic. I'll be ditching these and going back to a two-prong approach.\"\n",
      "\"I purchased the Leaf Hog last year and was very impressed with it.  It helped reduce the time to take care of leaves from about 80 hours of work to about 35 hours and my back didn't hurt nearly as much last year.  This year I tried out the Leaf Collection system as much of the time I spent last year was dumping out the leaf collection bag to mulch more until the garbage can was full.  On this go around I had 4 - 55 gallon garbage cans and started mulching the big piles I had.  I would just mulch until a can was full, move the fabric over to the next can and continue.  This sped up my time to finishing in under 20 hours this year.I would highly recommend it if you need to mulch more than a single bag full.  It saved a ton of time for me and I have no doubt it can do the same for you.\"\n",
      "\"Never used a manual lawnmower. Need to adjust heigth of back roller. If you have a small area then its fine. You will need a trimmer though for edges and difficult areas. May have to go over the area twice to make the cut even\"\n"
     ]
    },
    {
     "data": {
      "text/plain": [
       "rdd_text: Unit = ()\n"
      ]
     },
     "execution_count": 175,
     "metadata": {},
     "output_type": "execute_result"
    }
   ],
   "source": [
    "val rdd_text = rdd.map{ row =>\n",
    "      val json_row = parse(row)\n",
    "\n",
    "      (compact(json_row \\ \"reviewText\"))\n",
    "    }.take(10).foreach{println _}"
   ]
  },
  {
   "cell_type": "code",
   "execution_count": 109,
   "metadata": {
    "scrolled": true
   },
   "outputs": [
    {
     "name": "stdout",
     "output_type": "stream",
     "text": [
      "Array(This, was, gift, for, my, other, husband, He's, making, us, things, from, it, all, the, time, and, we, love, the, food, Directions, are, simple, easy, to, read, and, interpret, and, fun, to, make, We, all, love, different, kinds, of, cuisine, and, Raichlen, provides, recipes, from, everywhere, along, the, barbecue, trail, as, he, calls, it, Get, it, and, just, open, page, Have, at, it, You'll, love, the, food, and, it, has, provided, us, with, an, insight, into, the, culture, that, produced, it, It's, all, about, broadening, horizons, Yum)\n",
      "Array(This, is, very, nice, spreader, It, feels, very, solid, and, the, pneumatic, tires, give, it, great, maneuverability, and, handling, over, bumps, The, control, arm, is, solid, metal, not, cable, which, gives, you, precise, control, and, will, last, long, time, The, settings, take, some, experimentation, with, your, various, products, to, get, it, right, but, that, is, true, of, any, spreader, It, has, good, distribution, probably, flings, material, little, farther, on, the, right, side, than, the, left, but, it, is, far, more, even, than, my, crappy, Edgeguard, ever, was)\n",
      "Array(The, metal, base, with, the, hose, attachments, is, very, poorly, designed, and, made, As, the, previous, reviewer, pointed, out, it, leaks, badly, and, just, pops, off, There, is, no, way, to, fix, or, tighten, this, junction, and, when, the, plastic, wears, bit, the, hose, just, falls, off, and, sprinkler, is, useless, AVOID, ANY, GILMOUR, Sprinklers, with, this, spike, base, The, sprinkler, heads, themselves, work, fairly, well)\n",
      "Array(For, the, most, part, this, works, pretty, good, bought, the, John, Deere, and, this, one, they, both, work, the, same, This, is, the, first, time, am, waterin, my, lawn, so, to, me, it, seems, like, they, use, lot, of, water, especially, in, narrow, areas, They, are, better, made, for, large, areas, for, narrow, corridors, use, some, other, system)\n",
      "Array(This, hose, is, supposed, to, be, flexible, Its, hard, heavy, and, unwieldy, don't, know, if, it, kinks, or, not, because, could, tell, as, soon, as, removed, it, from, the, box, that, would, have, to, return, it, If, you, want, lightweight, soft, hose, and, know, they, exist, because, have, one, do, not, buy, this, thing)\n",
      "Array(This, tool, works, very, well, for, cutting, brush, and, woody, stemmed, weeds, up, to, about, 34, It, will, work, for, larger, brush, and, small, trees, with, multiple, swings, but, find, it, easier, to, use, bow, saw, for, the, occasional, larger, plants, encounter, Note, that, if, you, need, to, cut, lot, of, larger, brush, brush, hook, would, be, better, than, this, ditch, bank, blade, as, the, brush, hook, blade, is, thicker, and, heavier, The, tool, needs, to, be, sharpened, right, out, of, the, package, to, perform, best, This, removes, the, paint, and, any, nicks, and, burrs, from, the, factory, grinding, as, well, shipping, and, handling, nicks, resharpen, the, blades, and, spray, them, with, WD, 40, after, each, use, so, it, remains, rust, free, and, is, ready, to, go, for, the, next, session, of, cutting, brush, Also, suggest, installing, either, lock, washers, or, nyloc, nuts, on, the, bolts, to, keep, them, tight, in, use, Even, with, that, check, them, after, each, use, to, make, sure, they, are, tight, it, seems, that, initially, the, ash, handle, compresses, bit, and, the, metal, side, plates, need, time, to, seat, fully, into, the, ash, This, tool, has, been, huge, improvement, over, my, large, lopping, shears, and, machette, for, clearing, brush, on, new, rail, trail, Great, tool, if, used, appropriately, Per, the, package, it, can, also, be, used, to, ward, off, zombies, and, the, undead, but, I've, not, had, that, need, to, date)\n",
      "Array(This, product, is, typical, yet, usable, design, The, handle, mounted, power, cord, lock, is, somewhat, difficult, to, use, but, works, fairly, well, after, the, cord, is, locked, into, type, of, holder, that, could, be, improved, The, product, does, what, it, is, intended, to, do, no, more, no, less, It, is, powerful, vacuum, and, works, very, well, with, high, amounts, of, dry, leaf, material, The, attached, bagger, is, somewhat, cumbersome, to, use, and, empty, produces, copious, amounts, of, leaf, dust, but, overall, this, product, works, quite, well, in, vacuuming, lots, of, leaf, and, yard, material)\n",
      "Array(was, excited, to, ditch, my, 99, two, prong, corn, holders, for, this, corkscrew, design, but, regret, it, The, corkscrew, design, twists, into, the, end, of, the, corn, thought, this, was, genius, idea, but, the, problem, is, that, the, prong, continues, to, twist, when, in, the, corn, Since, it, doesn't, have, second, prong, to, prevent, the, pivoting, the, corn, will, flip, and, slip, all, around, the, prong, which, is, super, annoying, when, trying, to, butter, and, eat, The, storage, case, and, grips, are, nice, but, think, the, design, itself, is, problematic, I'll, be, ditching, these, and, going, back, to, two, prong, approach)\n",
      "Array(purchased, the, Leaf, Hog, last, year, and, was, very, impressed, with, it, It, helped, reduce, the, time, to, take, care, of, leaves, from, about, 80, hours, of, work, to, about, 35, hours, and, my, back, didn't, hurt, nearly, as, much, last, year, This, year, tried, out, the, Leaf, Collection, system, as, much, of, the, time, spent, last, year, was, dumping, out, the, leaf, collection, bag, to, mulch, more, until, the, garbage, can, was, full, On, this, go, around, had, 55, gallon, garbage, cans, and, started, mulching, the, big, piles, had, would, just, mulch, until, can, was, full, move, the, fabric, over, to, the, next, can, and, continue, This, sped, up, my, time, to, finishing, in, under, 20, hours, this, year, would, highly, recommend, it, if, you, need, to, mulch, more, than, single, bag, full, It, saved, ton, of, time, for, me, and, have, no, doubt, it, can, do, the, same, for, you)\n",
      "Array(Never, used, manual, lawnmower, Need, to, adjust, heigth, of, back, roller, If, you, have, small, area, then, its, fine, You, will, need, trimmer, though, for, edges, and, difficult, areas, May, have, to, go, over, the, area, twice, to, make, the, cut, even)\n"
     ]
    },
    {
     "data": {
      "text/plain": [
       "rdd_text_split: org.apache.spark.rdd.RDD[Array[String]] = MapPartitionsRDD[13] at map at <console>:63\n"
      ]
     },
     "execution_count": 109,
     "metadata": {},
     "output_type": "execute_result"
    }
   ],
   "source": [
    "/* With array \n",
    "val rdd_text_split = rdd_text.map(x => x.split(Array('.' , ' ', '?', '!', ',', ';', ':', '(', ')', '[',']','{','}','-','_',\n",
    "                                                    '`','~','#','&','*','%','$')))\n",
    "*/\n",
    "val rdd_text_split = rdd_text.map(x => \n",
    "\"\\\\s+|\\\\,|\\\\\\\\|/|\\\\.|\\\\!|\\\\?|\\\\;|\\\\:|\\\\(|\\\\)|\\\\[|\\\\]|\\\\{|\\\\}|\\\\-|\\\\_|\\\"|\\\\`|\\\\~|\\\\#|\\\\&|\\\\*|\\\\%|\\\\$\".r.split(x).filter(x => x.length > 1))\n",
    "rdd_text_split.take(10).foreach(array => println(stringOf(array)))"
   ]
  },
  {
   "cell_type": "code",
   "execution_count": 147,
   "metadata": {},
   "outputs": [
    {
     "data": {
      "text/plain": [
       "rdd_text_no_duplicates: org.apache.spark.rdd.RDD[List[String]] = MapPartitionsRDD[21] at map at <console>:64\n"
      ]
     },
     "execution_count": 147,
     "metadata": {},
     "output_type": "execute_result"
    }
   ],
   "source": [
    "val rdd_text_no_duplicates = rdd_text_split.map(x => x.toSet.toList)"
   ]
  },
  {
   "cell_type": "code",
   "execution_count": 148,
   "metadata": {},
   "outputs": [
    {
     "name": "stdout",
     "output_type": "stream",
     "text": [
      "List(barbecue, read, broadening, for, recipes, raichlen, insight, provided, are, it's, you'll, produced, this, different, get, all, he's, trail, page, gift, horizons, just, us, it, calls, provides, as, have, has, we, husband, open, culture, cuisine, that, to, making, was, at, kinds, my, directions, everywhere, easy, food, simple, things, he, love, with, from, fun, make, an, into, time, about, we, along, yum, other, of, and, interpret, the)\n",
      "List(side, maneuverability, any, your, is, than, experimentation, solid, this, but, good, distribution, handling, pneumatic, left, it, cable, has, crappy, nice, products, feels, far, last, flings, that, arm, to, you, probably, various, was, long, gives, the, over, on, my, precise, take, spreader, farther, even, will, little, not, with, give, edgeguard, true, it, which, control, material, get, time, more, metal, very, some, great, of, settings, and, right, ever, tires, bumps, the)\n"
     ]
    },
    {
     "data": {
      "text/plain": [
       "rdd_text_casefolding: org.apache.spark.rdd.RDD[List[String]] = MapPartitionsRDD[22] at map at <console>:66\n"
      ]
     },
     "execution_count": 148,
     "metadata": {},
     "output_type": "execute_result"
    }
   ],
   "source": [
    "val rdd_text_casefolding = rdd_text_no_duplicates.map(x => x.map(_.toLowerCase()))\n",
    "rdd_text_casefolding.take(2).foreach(array => println(stringOf(array)))"
   ]
  },
  {
   "cell_type": "code",
   "execution_count": 149,
   "metadata": {},
   "outputs": [
    {
     "data": {
      "text/plain": [
       "import scala.io.Source\r\n",
       "import scala.collection.mutable.ListBuffer\r\n",
       "stopWordsHelper: scala.collection.mutable.ListBuffer[String] = ListBuffer(a's, able, about, above, according, accordingly, across, actually, after, afterwards, again, against, ain't, all, allow, allows, almost, alone, along, already, also, although, always, am, among, amongst, an, and, another, any, anybody, anyhow, anyone, anything, anyway, anyways, anywhere, apart, appear, appreciate, appropriate, are, aren't, around, as, aside, ask, asking, associated, at, available, away, awfully, be, became, because, become, becomes, becoming, been, before, beforehand, behind, being, believe, below, beside, besides, best, better, between, beyond, both, brief, but, by, c'mon, c's, came, can, can't, cannot, cant, cause, causes, certa..."
      ]
     },
     "execution_count": 149,
     "metadata": {},
     "output_type": "execute_result"
    }
   ],
   "source": [
    "//creating stopWords List:\n",
    "\n",
    "import scala.io.Source\n",
    "import scala.collection.mutable.ListBuffer\n",
    "\n",
    "var stopWordsHelper = new ListBuffer[String]()\n",
    "val filename = \"stopwords.txt\"\n",
    "for (line <- Source.fromFile(filename).getLines) {\n",
    "    stopWordsHelper += line\n",
    "}\n",
    "val stopWords = stopWordsHelper.toList"
   ]
  },
  {
   "cell_type": "code",
   "execution_count": 150,
   "metadata": {},
   "outputs": [
    {
     "name": "stdout",
     "output_type": "stream",
     "text": [
      "List(barbecue, read, broadening, recipes, raichlen, insight, provided, produced, trail, page, gift, horizons, calls, husband, open, culture, cuisine, making, kinds, directions, easy, food, simple, things, love, fun, make, time, yum, interpret)\n",
      "List(side, maneuverability, experimentation, solid, good, distribution, handling, pneumatic, left, cable, crappy, nice, products, feels, flings, arm, long, precise, spreader, farther, give, edgeguard, true, control, material, time, metal, great, settings, tires, bumps)\n"
     ]
    },
    {
     "data": {
      "text/plain": [
       "rdd_text_no_stopwords: org.apache.spark.rdd.RDD[List[String]] = MapPartitionsRDD[23] at map at <console>:70\n"
      ]
     },
     "execution_count": 150,
     "metadata": {},
     "output_type": "execute_result"
    }
   ],
   "source": [
    "val rdd_text_no_stopwords = rdd_text_casefolding.map(x => x.filter(!stopWords.contains(_)))\n",
    "rdd_text_no_stopwords.take(2).foreach(array => println(stringOf(array)))"
   ]
  },
  {
   "cell_type": "markdown",
   "metadata": {},
   "source": [
    " # Get the amount of documents per category"
   ]
  },
  {
   "cell_type": "code",
   "execution_count": 167,
   "metadata": {},
   "outputs": [
    {
     "data": {
      "text/plain": [
       "category_count: org.apache.spark.rdd.RDD[(String, Int)] = ShuffledRDD[30] at reduceByKey at <console>:69\n"
      ]
     },
     "execution_count": 167,
     "metadata": {},
     "output_type": "execute_result"
    }
   ],
   "source": [
    "val category_count = rdd.map{ row =>\n",
    "  val json_row = parse(row)\n",
    "  (compact(json_row \\ \"category\").replace(\"\\\"\", \"\"), 1)\n",
    "}.reduceByKey((x,y) => x+y)"
   ]
  },
  {
   "cell_type": "code",
   "execution_count": 168,
   "metadata": {},
   "outputs": [
    {
     "name": "stdout",
     "output_type": "stream",
     "text": [
      "(Pet_Supplie,1235)\n",
      "(Movies_and_TV,4607)\n",
      "(Electronic,7825)\n",
      "(Office_Product,1243)\n",
      "(Musical_Instrument,500)\n",
      "(Cell_Phones_and_Accessorie,3447)\n",
      "(Clothing_Shoes_and_Jewelry,5749)\n",
      "(Tools_and_Home_Improvement,1926)\n",
      "(Baby,916)\n",
      "(Patio_Lawn_and_Garde,994)\n",
      "(Home_and_Kitche,4254)\n",
      "(Sports_and_Outdoor,3269)\n",
      "(Toys_and_Game,2253)\n",
      "(Digital_Music,836)\n",
      "(Apps_for_Android,2638)\n",
      "(Grocery_and_Gourmet_Food,1297)\n",
      "(Beauty,2023)\n",
      "(Health_and_Personal_Care,2982)\n",
      "(Book,22507)\n",
      "(Automotive,1374)\n",
      "(Kindle_Store,3205)\n",
      "(CDs_and_Vinyl,3749)\n"
     ]
    }
   ],
   "source": [
    "category_count.collect().foreach(println)"
   ]
  },
  {
   "cell_type": "code",
   "execution_count": 169,
   "metadata": {},
   "outputs": [
    {
     "data": {
      "text/plain": [
       "theMap: scala.collection.Map[String,Int] = Map(Kindle_Store -> 3205, Electronic -> 7825, Automotive -> 1374, Pet_Supplie -> 1235, Clothing_Shoes_and_Jewelry -> 5749, Baby -> 916, Grocery_and_Gourmet_Food -> 1297, Musical_Instrument -> 500, Book -> 22507, Movies_and_TV -> 4607, Tools_and_Home_Improvement -> 1926, Sports_and_Outdoor -> 3269, CDs_and_Vinyl -> 3749, Apps_for_Android -> 2638, Home_and_Kitche -> 4254, Office_Product -> 1243, Health_and_Personal_Care -> 2982, Digital_Music -> 836, Cell_Phones_and_Accessorie -> 3447, Beauty -> 2023, Toys_and_Game -> 2253, Patio_Lawn_and_Garde -> 994)\n"
      ]
     },
     "execution_count": 169,
     "metadata": {},
     "output_type": "execute_result"
    }
   ],
   "source": [
    "val theMap =category_count.collectAsMap"
   ]
  },
  {
   "cell_type": "code",
   "execution_count": 170,
   "metadata": {},
   "outputs": [
    {
     "name": "stdout",
     "output_type": "stream",
     "text": [
      "Key = Kindle_Store Value = 3205\n",
      "Key = Electronic Value = 7825\n",
      "Key = Automotive Value = 1374\n",
      "Key = Pet_Supplie Value = 1235\n",
      "Key = Clothing_Shoes_and_Jewelry Value = 5749\n",
      "Key = Baby Value = 916\n",
      "Key = Grocery_and_Gourmet_Food Value = 1297\n",
      "Key = Musical_Instrument Value = 500\n",
      "Key = Book Value = 22507\n",
      "Key = Movies_and_TV Value = 4607\n",
      "Key = Tools_and_Home_Improvement Value = 1926\n",
      "Key = Sports_and_Outdoor Value = 3269\n",
      "Key = CDs_and_Vinyl Value = 3749\n",
      "Key = Apps_for_Android Value = 2638\n",
      "Key = Home_and_Kitche Value = 4254\n",
      "Key = Office_Product Value = 1243\n",
      "Key = Health_and_Personal_Care Value = 2982\n",
      "Key = Digital_Music Value = 836\n",
      "Key = Cell_Phones_and_Accessorie Value = 3447\n",
      "Key = Beauty Value = 2023\n",
      "Key = Toys_and_Game Value = 2253\n",
      "Key = Patio_Lawn_and_Garde Value = 994\n"
     ]
    }
   ],
   "source": [
    " theMap.keys.foreach{ i =>  \n",
    " print( \"Key = \" + i )\n",
    " println(\" Value = \" + theMap(i) )}"
   ]
  },
  {
   "cell_type": "code",
   "execution_count": 172,
   "metadata": {},
   "outputs": [
    {
     "data": {
      "text/plain": [
       "res103: Int = 3205\n"
      ]
     },
     "execution_count": 172,
     "metadata": {},
     "output_type": "execute_result"
    }
   ],
   "source": [
    "theMap(\"Kindle_Store\")"
   ]
  },
  {
   "cell_type": "code",
   "execution_count": null,
   "metadata": {},
   "outputs": [],
   "source": []
  }
 ],
 "metadata": {
  "kernelspec": {
   "display_name": "spylon-kernel",
   "language": "scala",
   "name": "spylon-kernel"
  },
  "language_info": {
   "codemirror_mode": "text/x-scala",
   "file_extension": ".scala",
   "help_links": [
    {
     "text": "MetaKernel Magics",
     "url": "https://metakernel.readthedocs.io/en/latest/source/README.html"
    }
   ],
   "mimetype": "text/x-scala",
   "name": "scala",
   "pygments_lexer": "scala",
   "version": "0.4.1"
  }
 },
 "nbformat": 4,
 "nbformat_minor": 4
}
